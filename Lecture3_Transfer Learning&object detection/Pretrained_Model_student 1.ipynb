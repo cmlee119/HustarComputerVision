{
 "cells": [
  {
   "cell_type": "markdown",
   "metadata": {
    "collapsed": true
   },
   "source": [
    "# Pretrained Model\n",
    "### The reason that it is introduced\n",
    "* [ILSCVRC](http://image-net.org/)에서 1000개의 클래스를 classification하는 문제를 solving한 모델이 있다.\n",
    "* 이모델은 1000개를 분류할 수 있는 능력이 있지만 수백만장의 이미지 데이터를 다시 트레이닝하는 것은 매우 무리다.\n",
    "* 그래서 연구소에서는 이모델을 open source로 제공하는 방향으로 연구를 하고 이를 우리는 사용해 좋은 **visual features **를 이용할 수 있게 되었다.\n",
    "* 사용법은 매우 간단하다."
   ]
  },
  {
   "cell_type": "code",
   "execution_count": 1,
   "metadata": {},
   "outputs": [],
   "source": [
    "import os\n",
    "import random\n",
    "\n",
    "import torch\n",
    "import torchvision\n",
    "import torchvision.transforms as transforms\n",
    "import numpy as np\n",
    "\n",
    "random_seed = 4332\n",
    "torch.manual_seed(random_seed)\n",
    "torch.cuda.manual_seed(random_seed)\n",
    "torch.cuda.manual_seed_all(random_seed) # if use multi-GPU\n",
    "torch.backends.cudnn.deterministic = True\n",
    "torch.backends.cudnn.benchmark = False\n",
    "np.random.seed(random_seed)\n",
    "random.seed(random_seed)"
   ]
  },
  {
   "cell_type": "code",
   "execution_count": 2,
   "metadata": {},
   "outputs": [
    {
     "name": "stdout",
     "output_type": "stream",
     "text": [
      "Files already downloaded and verified\n",
      "Files already downloaded and verified\n"
     ]
    }
   ],
   "source": [
    "transform_train = transforms.Compose(\n",
    "    [transforms.RandomResizedCrop(224), # Data augmentation, 224 = image size, ImageNet pretrained model을 위해서 resize\n",
    "     # 224여야만 제대로 동작할 정도로 사이즈에 민감하다.\n",
    "     transforms.RandomHorizontalFlip(), # Data 수 늘어나는 효과. data augmentation\n",
    "     transforms.ToTensor(),\n",
    "     transforms.Normalize((0.4914, 0.4822, 0.4465), (0.2023, 0.1994, 0.2010))\n",
    "    ]) # -1 ~ 1. dataset의 mean, std을 이요해서 normalize \n",
    "\n",
    "transform_test = transforms.Compose([\n",
    "    transforms.RandomResizedCrop(224),\n",
    "    transforms.RandomHorizontalFlip(),\n",
    "    transforms.ToTensor(),\n",
    "    transforms.Normalize((0.4914, 0.4822, 0.4465), (0.2023, 0.1994, 0.2010)),\n",
    "])\n",
    "\n",
    "trainset = torchvision.datasets.CIFAR10(root='./data', train=True,\n",
    "                                      download=True, transform=transform_train)\n",
    "trainloader = torch.utils.data.DataLoader(trainset, batch_size=512,\n",
    "                                         shuffle=True, num_workers=2)\n",
    "\n",
    "testset = torchvision.datasets.CIFAR10(root='./data', train=False,\n",
    "                                      download=True, transform=transform_test)\n",
    "testloader = torch.utils.data.DataLoader(testset, batch_size=4,\n",
    "                                        shuffle=False, num_workers=2)\n",
    "\n",
    "classes = ('plane', 'car', 'bird', 'cat', 'deer', 'dog', 'frog', 'horse', 'ship', 'truck')"
   ]
  },
  {
   "cell_type": "markdown",
   "metadata": {},
   "source": [
    "## TO DO - Load and Define pretrained model and fine-tuning\n",
    "- Use torchvision.models.resnet18\n",
    "- Re-define the last fully connected layer for our task (ImageNet Dataset: 1000 classes, CIFAR10 Dataset: 10 classes, so set the last fully connected layer's out_features to 10) "
   ]
  },
  {
   "cell_type": "code",
   "execution_count": 3,
   "metadata": {},
   "outputs": [],
   "source": [
    "import torch.nn as nn\n",
    "import torch.nn.functional as F\n",
    "from torchvision import models"
   ]
  },
  {
   "cell_type": "code",
   "execution_count": 4,
   "metadata": {},
   "outputs": [],
   "source": [
    "# resnet_cls = models.resnet18(pretrained=True)\n",
    "class ResNet18(nn.Module):\n",
    "    def __init__ (self):\n",
    "        super(ResNet18, self).__init__()\n",
    "        # TODO\n",
    "        self.resnet = models.resnet18(pretrained=True)\n",
    "        num_ftrs = self.resnet.fc.in_features\n",
    "        self.resnet.fc = nn.Linear(num_ftrs, 10) #원래는 1000개였는데 10개로 수정\n",
    "        \n",
    "    def forward(self, x):\n",
    "#         import pdb; pdb.set_trace()\n",
    "        x = self.resnet(x) # Batch_size x 10\n",
    "        return x\n",
    "    \n",
    "# resnet_cls = models.resnet50(pretrained=True)\n",
    "class ResNet50(nn.Module):\n",
    "    def __init__ (self):\n",
    "        super(ResNet50, self).__init__()\n",
    "        # TODO\n",
    "        self.resnet = models.resnet50(pretrained=True)\n",
    "        num_ftrs = self.resnet.fc.in_features\n",
    "        self.resnet.fc = nn.Linear(num_ftrs, 10) #원래는 1000개였는데 10개로 수정\n",
    "        \n",
    "    def forward(self, x):\n",
    "#         import pdb; pdb.set_trace()\n",
    "        x = self.resnet(x) # Batch_size x 10\n",
    "        return x\n",
    "    \n",
    "# print(models.resnet18(pretrained=True))        "
   ]
  },
  {
   "cell_type": "markdown",
   "metadata": {},
   "source": [
    "## Load Model"
   ]
  },
  {
   "cell_type": "code",
   "execution_count": 5,
   "metadata": {},
   "outputs": [],
   "source": [
    "import torch.optim as optim\n",
    "\n",
    "device = torch.device(\"cuda\" if torch.cuda.is_available() else \"cpu\")\n",
    "# device = torch.device(\"cpu\")\n",
    "net = ResNet18()\n",
    "\n",
    "os.environ[\"CUDA_VISIBLE_DEVICES\"] = '0, 1'\n",
    "net = nn.DataParallel(net, output_device=1)\n",
    "\n",
    "# net = torch.nn.DataParallel(net)\n",
    "net = net.to(device)"
   ]
  },
  {
   "cell_type": "markdown",
   "metadata": {},
   "source": [
    "## Training"
   ]
  },
  {
   "cell_type": "code",
   "execution_count": null,
   "metadata": {},
   "outputs": [
    {
     "name": "stdout",
     "output_type": "stream",
     "text": [
      "[1] loss: 0.0226262236\n",
      "[2] loss: 0.0186165094\n",
      "[3] loss: 0.0166661251\n",
      "[4] loss: 0.0141842198\n",
      "[5] loss: 0.0128150690\n",
      "[6] loss: 0.0118757498\n",
      "[7] loss: 0.0103637409\n",
      "[8] loss: 0.0090105492\n",
      "[9] loss: 0.0096765548\n",
      "[10] loss: 0.0081448036\n",
      "[11] loss: 0.0083369601\n",
      "[12] loss: 0.0071253920\n",
      "[13] loss: 0.0069676620\n",
      "[14] loss: 0.0070202434\n",
      "[15] loss: 0.0053815699\n",
      "[16] loss: 0.0066581184\n",
      "[17] loss: 0.0072458589\n",
      "[18] loss: 0.0058034682\n",
      "[19] loss: 0.0069814211\n",
      "[20] loss: 0.0053677464        accuracy: 0.7695\n",
      "[21] loss: 0.0058573276\n",
      "[22] loss: 0.0056123984\n",
      "[23] loss: 0.0045070103\n",
      "[24] loss: 0.0060587436\n",
      "[25] loss: 0.0045773265\n",
      "[26] loss: 0.0054967135\n",
      "[27] loss: 0.0053687519\n",
      "[28] loss: 0.0034439340\n",
      "[29] loss: 0.0039713818\n",
      "[30] loss: 0.0040231287\n",
      "[31] loss: 0.0042124626\n",
      "[32] loss: 0.0047156769\n",
      "[33] loss: 0.0037879390\n",
      "[34] loss: 0.0045831186\n",
      "[35] loss: 0.0037040806\n",
      "[36] loss: 0.0040326303\n",
      "[37] loss: 0.0045486730\n",
      "[38] loss: 0.0042307839\n",
      "[39] loss: 0.0029683888\n",
      "[40] loss: 0.0044772390        accuracy: 0.8201\n",
      "[41] loss: 0.0039930224\n",
      "[42] loss: 0.0032592350\n",
      "[43] loss: 0.0035142535\n",
      "[44] loss: 0.0033009285\n",
      "[45] loss: 0.0041310275\n",
      "[46] loss: 0.0038354874\n",
      "[47] loss: 0.0030658019\n",
      "[48] loss: 0.0036395803\n",
      "[49] loss: 0.0036738676\n",
      "[50] loss: 0.0041353849\n",
      "[51] loss: 0.0034736523\n",
      "[52] loss: 0.0031933165\n",
      "[53] loss: 0.0025833720\n",
      "[54] loss: 0.0029634950\n",
      "[55] loss: 0.0033289421\n",
      "[56] loss: 0.0033634099\n",
      "[57] loss: 0.0031022444\n",
      "[58] loss: 0.0034252051\n",
      "[59] loss: 0.0039112821\n",
      "[60] loss: 0.0023899591        accuracy: 0.8384\n",
      "[61] loss: 0.0030433550\n",
      "[62] loss: 0.0034365839\n",
      "[63] loss: 0.0034895018\n",
      "[64] loss: 0.0034780499\n",
      "[65] loss: 0.0025099638\n",
      "[66] loss: 0.0020841554\n",
      "[67] loss: 0.0031093276\n",
      "[68] loss: 0.0030683661\n",
      "[69] loss: 0.0028279355\n",
      "[70] loss: 0.0028131908\n",
      "[71] loss: 0.0026724765\n",
      "[72] loss: 0.0021253118\n",
      "[73] loss: 0.0028507423\n",
      "[74] loss: 0.0033296019\n",
      "[75] loss: 0.0029251710\n",
      "[76] loss: 0.0028817129\n",
      "[77] loss: 0.0020433834\n",
      "[78] loss: 0.0021507718\n",
      "[79] loss: 0.0026040342\n",
      "[80] loss: 0.0025487694        accuracy: 0.8402\n",
      "[81] loss: 0.0018631527\n",
      "[82] loss: 0.0031024647\n",
      "[83] loss: 0.0028949890\n",
      "[84] loss: 0.0025818086\n",
      "[85] loss: 0.0026401860\n"
     ]
    }
   ],
   "source": [
    "training_epochs = 350\n",
    "learning_rate = 0.1\n",
    "\n",
    "criterion = nn.CrossEntropyLoss() \n",
    "optimizer = optim.SGD(net.parameters(), lr=learning_rate, momentum = 0.9)\n",
    "net.train()\n",
    "\n",
    "scheduler = optim.lr_scheduler.MultiStepLR(optimizer, milestones=[150,250], gamma=0.1)\n",
    "\n",
    "for epoch in range(training_epochs):        \n",
    "    for i, data in enumerate(trainloader, 0):\n",
    "        inputs, labels = data\n",
    "        inputs, labels = inputs.to(device), labels.to(device)\n",
    "        \n",
    "        optimizer.zero_grad()\n",
    "\n",
    "        outputs = net(inputs) \n",
    "        loss =  criterion(outputs, labels)\n",
    "        loss.backward()\n",
    "        \n",
    "        optimizer.step()\n",
    "    \n",
    "    \n",
    "    if epoch % 20 == 19:\n",
    "        #test the model\n",
    "        net.eval()\n",
    "        correct = 0\n",
    "        total = 0\n",
    "\n",
    "        with torch.no_grad():\n",
    "            for index, [data, label] in enumerate(testloader):\n",
    "                data = data.to(device)\n",
    "                label = label.to(device)\n",
    "\n",
    "                output = net.forward(data)\n",
    "                _, prediction_index = torch.max(output, 1)\n",
    "\n",
    "                total += label.size(0)\n",
    "                correct += (prediction_index == label).sum().float()\n",
    "\n",
    "            if total == 0:\n",
    "                total = 1\n",
    "            print('[%d] loss: %.10f        accuracy: %.4f' % (epoch + 1, loss.item() / 100, correct/total))\n",
    "\n",
    "        net.train()\n",
    "    else:\n",
    "        print('[%d] loss: %.10f' % (epoch + 1, loss.item() / 100))\n",
    "        \n",
    "    scheduler.step()\n",
    "        \n",
    "print('Finished Training')"
   ]
  },
  {
   "cell_type": "markdown",
   "metadata": {},
   "source": [
    "## Test"
   ]
  },
  {
   "cell_type": "code",
   "execution_count": null,
   "metadata": {},
   "outputs": [],
   "source": [
    "class_correct = np.zeros(10)\n",
    "class_total = np.zeros(10)\n",
    "\n",
    "net.eval()\n",
    "with torch.no_grad():\n",
    "    for data in testloader:\n",
    "        images, labels = data\n",
    "        images = images.to(device)\n",
    "        labels = labels.to(device)\n",
    "        outputs = net(images)\n",
    "        _, predicted = torch.max(outputs, 1)\n",
    "        c = (predicted == labels).squeeze()\n",
    "        for i in range(4):\n",
    "            label = labels[i]\n",
    "            class_correct[label] += c[i].item()\n",
    "            class_total[label] += 1\n",
    "\n",
    "\n",
    "for i in range(10):\n",
    "    print('Accuracy of %5s : %2f %%' % (\n",
    "        classes[i], 100 * class_correct[i] / class_total[i]))\n",
    "print('Mean Accuracy : ', 100*np.sum(class_correct)/np.sum(class_total))"
   ]
  },
  {
   "cell_type": "markdown",
   "metadata": {},
   "source": [
    "## Visualization"
   ]
  },
  {
   "cell_type": "code",
   "execution_count": null,
   "metadata": {},
   "outputs": [],
   "source": [
    "%matplotlib inline\n",
    "import matplotlib.pyplot as plt\n",
    "\n",
    "def imshow(inp, title=None):\n",
    "    \"\"\"Imshow for Tensor.\"\"\"\n",
    "    inp = inp.numpy().transpose((1, 2, 0))\n",
    "    mean = np.array([0.485, 0.456, 0.406])\n",
    "    std = np.array([0.229, 0.224, 0.225])\n",
    "    inp = std * inp + mean\n",
    "    inp = np.clip(inp, 0, 1)\n",
    "    plt.imshow(inp)\n",
    "    if title is not None:\n",
    "        plt.title(title)\n",
    "# Get a batch of training data\n",
    "dataiter = iter(testloader)"
   ]
  },
  {
   "cell_type": "code",
   "execution_count": null,
   "metadata": {},
   "outputs": [],
   "source": [
    "inputs, labels = dataiter.next()\n",
    "outputs = net(inputs.cuda())\n",
    "_, predicted = torch.max(outputs.data, 1)\n",
    "imshow(torchvision.utils.make_grid(inputs), title=[classes[x] for x in predicted])"
   ]
  },
  {
   "cell_type": "code",
   "execution_count": null,
   "metadata": {},
   "outputs": [],
   "source": []
  }
 ],
 "metadata": {
  "kernelspec": {
   "display_name": "Python 3",
   "language": "python",
   "name": "python3"
  },
  "language_info": {
   "codemirror_mode": {
    "name": "ipython",
    "version": 3
   },
   "file_extension": ".py",
   "mimetype": "text/x-python",
   "name": "python",
   "nbconvert_exporter": "python",
   "pygments_lexer": "ipython3",
   "version": "3.8.3"
  },
  "varInspector": {
   "cols": {
    "lenName": 16,
    "lenType": 16,
    "lenVar": 40
   },
   "kernels_config": {
    "python": {
     "delete_cmd_postfix": "",
     "delete_cmd_prefix": "del ",
     "library": "var_list.py",
     "varRefreshCmd": "print(var_dic_list())"
    },
    "r": {
     "delete_cmd_postfix": ") ",
     "delete_cmd_prefix": "rm(",
     "library": "var_list.r",
     "varRefreshCmd": "cat(var_dic_list()) "
    }
   },
   "types_to_exclude": [
    "module",
    "function",
    "builtin_function_or_method",
    "instance",
    "_Feature"
   ],
   "window_display": false
  }
 },
 "nbformat": 4,
 "nbformat_minor": 2
}
